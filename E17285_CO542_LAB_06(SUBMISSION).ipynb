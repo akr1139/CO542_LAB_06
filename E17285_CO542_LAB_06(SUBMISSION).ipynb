{
  "nbformat": 4,
  "nbformat_minor": 0,
  "metadata": {
    "colab": {
      "provenance": [],
      "include_colab_link": true
    },
    "kernelspec": {
      "name": "python3",
      "display_name": "Python 3"
    },
    "language_info": {
      "name": "python"
    }
  },
  "cells": [
    {
      "cell_type": "markdown",
      "metadata": {
        "id": "view-in-github",
        "colab_type": "text"
      },
      "source": [
        "<a href=\"https://colab.research.google.com/github/akr1139/CO542_LAB_06/blob/main/E17285_CO542_LAB_06(SUBMISSION).ipynb\" target=\"_parent\"><img src=\"https://colab.research.google.com/assets/colab-badge.svg\" alt=\"Open In Colab\"/></a>"
      ]
    },
    {
      "cell_type": "code",
      "metadata": {
        "id": "s9hrUQVhqkEz"
      },
      "source": [
        "# !pip install minisom"
      ],
      "execution_count": 71,
      "outputs": []
    },
    {
      "cell_type": "code",
      "metadata": {
        "id": "0a53vu1lqs4s"
      },
      "source": [
        "import numpy as np\n",
        "import pandas as pd\n",
        "import matplotlib.pyplot as plt\n",
        "from matplotlib.gridspec import GridSpec\n",
        "from matplotlib.patches import Patch\n",
        "from minisom import MiniSom\n",
        "from sklearn.preprocessing import MinMaxScaler"
      ],
      "execution_count": 72,
      "outputs": []
    },
    {
      "cell_type": "markdown",
      "source": [
        "# 1.Load the data set as a pandas’ data frame and generate the feature matrix by selecting the appropriate features in the data set"
      ],
      "metadata": {
        "id": "qBAA-dnYGc9C"
      }
    },
    {
      "cell_type": "code",
      "source": [
        "import pandas as pd\n",
        "\n",
        "# Read the CSV file into a DataFrame\n",
        "df = pd.read_csv(\"/content/diabetes.csv\")\n",
        "\n",
        "# Print the contents of the DataFrame\n",
        "print(df.head(2))"
      ],
      "metadata": {
        "colab": {
          "base_uri": "https://localhost:8080/"
        },
        "id": "tMMZHAKgOQ3U",
        "outputId": "23022db5-2918-435c-af03-fc5109c12894"
      },
      "execution_count": 90,
      "outputs": [
        {
          "output_type": "stream",
          "name": "stdout",
          "text": [
            "   Pregnancies  Glucose  BloodPressure  SkinThickness  Insulin   BMI  \\\n",
            "0            6      148             72             35        0  33.6   \n",
            "1            1       85             66             29        0  26.6   \n",
            "\n",
            "   DiabetesPedigreeFunction  Age  Outcome  \n",
            "0                     0.627   50        1  \n",
            "1                     0.351   31        0  \n"
          ]
        }
      ]
    },
    {
      "cell_type": "code",
      "metadata": {
        "id": "iA5KfjJfwww5"
      },
      "source": [
        "# df.info()"
      ],
      "execution_count": 74,
      "outputs": []
    },
    {
      "cell_type": "code",
      "metadata": {
        "id": "soqAnblgw6vP"
      },
      "source": [
        "# df.describe()\n",
        "#outcome is a less complex feature\n",
        "#it can be dropped\n"
      ],
      "execution_count": 75,
      "outputs": []
    },
    {
      "cell_type": "code",
      "metadata": {
        "id": "iWgJgEKVxtap"
      },
      "source": [
        "features = df.drop(columns=[\"Outcome\"], axis=1)"
      ],
      "execution_count": 76,
      "outputs": []
    },
    {
      "cell_type": "code",
      "metadata": {
        "id": "AmNuW8AjyXp4"
      },
      "source": [
        "class_names = features.columns\n",
        "data = features.values"
      ],
      "execution_count": 77,
      "outputs": []
    },
    {
      "cell_type": "markdown",
      "source": [
        "# 2.Use sklearn.preprocessing.MinMaxScaler normalize the data between 0 and 1\n",
        "\n",
        "Map the data between 0 and 1"
      ],
      "metadata": {
        "id": "QLs_vwuVGn8O"
      }
    },
    {
      "cell_type": "code",
      "source": [
        "from sklearn.preprocessing import MinMaxScaler\n",
        "\n",
        "# Initialize the MinMaxScaler\n",
        "mm_scaler = MinMaxScaler()\n",
        "\n",
        "# Normalize the data between 0 and 1\n",
        "normalized_data = mm_scaler.fit_transform(data)\n",
        "\n",
        "# The 'normalized_data' variable now contains the normalized values between 0 and 1\n"
      ],
      "metadata": {
        "id": "HENzjxLUOvo6"
      },
      "execution_count": 78,
      "outputs": []
    },
    {
      "cell_type": "code",
      "metadata": {
        "id": "iYVjXXVkzJnl"
      },
      "source": [
        "# #preprocessing\n",
        "# #creating the feature matrix\n",
        "\n",
        "# mm_scaler = MinMaxScaler()\n",
        "# feature_matrix = mm_scaler.fit_transform(features)"
      ],
      "execution_count": 79,
      "outputs": []
    },
    {
      "cell_type": "markdown",
      "source": [
        "# 3. Initialize the weights using MiniSom.pca_weights_init function (Also identify the usage of random_weights_init method and mention an advantage of using pca_weights_init)."
      ],
      "metadata": {
        "id": "UuFCC3R0HStp"
      }
    },
    {
      "cell_type": "code",
      "source": [
        "from minisom import MiniSom\n",
        "\n",
        "# Initialize MiniSom with PCA-based weight initialization\n",
        "n_neurons = 9\n",
        "m_neurons = 9\n",
        "som = MiniSom(n_neurons, m_neurons, normalized_data.shape[1], sigma=1.5, learning_rate=.5,\n",
        "              neighborhood_function='gaussian', random_seed=0)"
      ],
      "metadata": {
        "id": "JB6_fwHWJ1-z"
      },
      "execution_count": 80,
      "outputs": []
    },
    {
      "cell_type": "code",
      "source": [
        "from minisom import MiniSom\n",
        "\n",
        "# Initialize MiniSom with random weight initialization\n",
        "som = MiniSom(x=10, y=10, input_len=features.shape[1], sigma=1.0, learning_rate=0.5)\n",
        "som.random_weights_init(features.values)\n"
      ],
      "metadata": {
        "id": "zbDkglWqQclZ"
      },
      "execution_count": 81,
      "outputs": []
    },
    {
      "cell_type": "code",
      "source": [
        "#train the self-organizing map.\n",
        "som.pca_weights_init(normalized_data)"
      ],
      "metadata": {
        "id": "78nKxZGARP6S"
      },
      "execution_count": 82,
      "outputs": []
    },
    {
      "cell_type": "markdown",
      "source": [
        "The advantage of using pca_weights_init is that it leverages the underlying structure and correlations within the input data. By initializing the weights based on the principal components of the data, the SOM can learn the intrinsic patterns and relationships in the data more efficiently. This often leads to a more organized and meaningful representation of the input data in the SOM grid."
      ],
      "metadata": {
        "id": "fQzb7uZAQZFO"
      }
    },
    {
      "cell_type": "markdown",
      "source": [
        "# 4. Identify the difference between Minisom.train_batch and Minisom.train_random methods available minisom and use one of the models to train your self-organizing map."
      ],
      "metadata": {
        "id": "kNQAbernRHxS"
      }
    },
    {
      "cell_type": "code",
      "source": [
        "from minisom import MiniSom\n",
        "\n",
        "# Initialize MiniSom\n",
        "som = MiniSom(x=10, y=10, input_len=features.shape[1], sigma=1.0, learning_rate=0.5)\n",
        "\n",
        "# Number of iterations over the dataset\n",
        "num_epochs = 100\n",
        "\n",
        "# Train the SOM using batch training\n",
        "for _ in range(num_epochs):\n",
        "    som.train_batch(features.values, len(features))\n"
      ],
      "metadata": {
        "id": "qfBAYoaPRnZd"
      },
      "execution_count": 83,
      "outputs": []
    },
    {
      "cell_type": "code",
      "source": [
        "from minisom import MiniSom\n",
        "import numpy as np\n",
        "\n",
        "# Initialize MiniSom\n",
        "som = MiniSom(x=10, y=10, input_len=features.shape[1], sigma=1.0, learning_rate=0.5)\n",
        "\n",
        "# Number of iterations over the dataset\n",
        "num_epochs = 100\n",
        "\n",
        "# Train the SOM using random training\n",
        "for _ in range(num_epochs):\n",
        "    np.random.shuffle(features.values)  # Shuffle the data randomly before each epoch\n",
        "    som.train_random(features.values, len(features))\n"
      ],
      "metadata": {
        "id": "FINT5bqtRwNr"
      },
      "execution_count": 84,
      "outputs": []
    },
    {
      "cell_type": "code",
      "source": [
        "som.train_random(normalized_data, 1000, verbose=True)  # random training"
      ],
      "metadata": {
        "colab": {
          "base_uri": "https://localhost:8080/"
        },
        "id": "yAW3mXDgHoap",
        "outputId": "1a572d72-7288-47f3-de82-147dcdf8cf38"
      },
      "execution_count": 85,
      "outputs": [
        {
          "output_type": "stream",
          "name": "stdout",
          "text": [
            " [ 1000 / 1000 ] 100% - 0:00:00 left \n",
            " quantization error: 0.25303372477251984\n"
          ]
        }
      ]
    },
    {
      "cell_type": "markdown",
      "source": [
        "# 5. Study about the distance map and mention what does it indicate related to the self-organizing maps.\n"
      ],
      "metadata": {
        "id": "Ou1Mku9yH2a0"
      }
    },
    {
      "cell_type": "markdown",
      "source": [
        "* In self-organizing maps (SOMs), the distance map is a visual representation of the relationships between neurons in the SOM grid.\n",
        "* It is a 2D array where each element represents the distance between the corresponding neurons in the SOM.\n",
        "* The distance map helps to visualize how neurons in the SOM respond to different input patterns and how they are organized based on the input data distribution.\n",
        "\n",
        "* The distance between two neurons in the SOM grid is typically calculated using a distance metric, such as Euclidean distance. For a given neuron at position (i, j) in the grid, its distance from other neurons (x, y) can be calculated as:\n",
        "\n",
        "$\\operatorname{Distance}((i, j),(x, y))=\\sqrt{(i-x)^2+(j-y)^2}$\n",
        "\n",
        "Here's what the distance map indicates related to self-organizing maps:\n",
        "\n",
        "1. **Topological Relationships**: Neurons that are close to each other in the SOM grid have similar response patterns and tend to represent similar or related input data points. The distance map visualizes the topological relationships between neurons. Neurons that are nearby in the distance map are also close in the input space, indicating that they respond similarly to similar input patterns.\n",
        "\n",
        "2. **Clustered Regions**: Clusters of neurons with similar response patterns are represented as contiguous areas of low values in the distance map. These clustered regions indicate groups of neurons that have learned to respond to specific features or patterns in the input data. Neurons within the same cluster on the distance map are highly interconnected and represent similar input features.\n",
        "\n",
        "3. **Mapping of Input Space**: The distance map provides a way to map the high-dimensional input space onto a 2D grid. Each neuron in the SOM corresponds to a specific region in the input space. By analyzing the distance map, you can understand how different regions of the input space are represented and organized by the SOM.\n",
        "\n",
        "4. **Quantification of SOM Quality**: The smoothness and continuity of the distance map reflect the quality of the SOM. A well-trained SOM will have a smooth and continuous distance map, indicating that similar input patterns are mapped to nearby regions in the SOM grid. Discontinuities or abrupt changes in the distance map might suggest issues with the training process or the quality of the input data.\n",
        "\n",
        "In summary, the distance map in self-organizing maps provides valuable insights into the organization of the SOM grid, helping researchers and data analysts interpret the learned representations, identify clusters, and understand the relationships between different regions of the input space."
      ],
      "metadata": {
        "id": "cCE1t28jSHER"
      }
    },
    {
      "cell_type": "markdown",
      "source": [
        "# 6. Use Minisom.distance_map function to visualize the results obtained from the training process anduse appropriate markers to indicate individual samples matched into each cell (according to the classes;patient who has diabetes/ do not have diabetes define two markers).\n"
      ],
      "metadata": {
        "id": "Go2ffzgJIG5O"
      }
    },
    {
      "cell_type": "code",
      "source": [
        "# from minisom import MiniSom\n",
        "# import numpy as np\n",
        "# import matplotlib.pyplot as plt\n",
        "\n",
        "# # Initialize MiniSom with appropriate parameters\n",
        "# som = MiniSom(x=10, y=10, input_len=features.shape[1], sigma=1.0, learning_rate=0.5)\n",
        "\n",
        "# # Number of epochs (iterations over the entire dataset)\n",
        "# num_epochs = 100\n",
        "\n",
        "# # Train the SOM by iterating over the dataset multiple times\n",
        "# for epoch in range(num_epochs):\n",
        "#     np.random.shuffle(features.values)  # Shuffle the data randomly before each epoch\n",
        "#     for i, x in enumerate(features.values):\n",
        "#         som.update(x, som.winner(x), epoch, num_epochs)  # Update the SOM weights for each sample\n",
        "\n",
        "# # Get the distance map\n",
        "# distance_map = som.distance_map()\n",
        "\n",
        "# # Create a scatter plot to visualize the distance map\n",
        "# plt.figure(figsize=(10, 10))\n",
        "# for i, x in enumerate(features.values):\n",
        "#     # Find the best matching unit (BMU)\n",
        "#     bmu = som.winner(x)\n",
        "\n",
        "#     # Determine the marker style based on the class (diabetes or no diabetes)\n",
        "#     marker = 'o' if df.iloc[i]['Outcome'] == 0 else 's'\n",
        "\n",
        "#     # Plot the marker on the distance map at the BMU coordinates\n",
        "#     plt.plot(bmu[0] + 0.5, bmu[1] + 0.5, marker, markerfacecolor='None', markersize=10, markeredgecolor='r', markeredgewidth=2)\n",
        "\n",
        "# # Plot the distance map as an image\n",
        "# plt.imshow(distance_map, cmap='bone_r', interpolation='nearest')\n",
        "\n",
        "# # Show the plot\n",
        "# plt.title('Self-Organizing Map - Distance Map with Sample Markers')\n",
        "# plt.colorbar()\n",
        "# plt.show()\n",
        "\n"
      ],
      "metadata": {
        "id": "u0_cXnkcSxCT"
      },
      "execution_count": 86,
      "outputs": []
    },
    {
      "cell_type": "code",
      "metadata": {
        "colab": {
          "base_uri": "https://localhost:8080/",
          "height": 759
        },
        "id": "q79axtcM40IS",
        "outputId": "73010b5f-8827-4c7d-e5d7-aaa8f41e64b5"
      },
      "source": [
        "#plot the distance map\n",
        "plt.figure(figsize=(9, 9))\n",
        "\n",
        "plt.pcolor(som.distance_map().T, cmap='bone_r')  # plotting the distance map as background\n",
        "plt.colorbar()\n",
        "\n",
        "#Plotting the response for each pattern in the diabetes dataset\n",
        "#different colors and markers for each label\n",
        "#only two output labels\n",
        "#two type of colors and markers\n",
        "markers = ['o', 's']\n",
        "colors = ['C0', 'C1']\n",
        "\n",
        "outcomes = df['Outcome'].values\n",
        "\n",
        "for cnt, xx in enumerate(normalized_data):\n",
        "    w = som.winner(xx)  # getting the winner\n",
        "    # palce a marker on the winning position for the sample xx\n",
        "    plt.plot(w[0]+.5, w[1]+.5, markers[outcomes[cnt]-1], markerfacecolor='None',\n",
        "             markeredgecolor=colors[outcomes[cnt]-1], markersize=12, markeredgewidth=2)\n",
        "plt.legend([\"diabetes\",\"no diabetes\"])\n",
        "plt.show()"
      ],
      "execution_count": 87,
      "outputs": [
        {
          "output_type": "display_data",
          "data": {
            "text/plain": [
              "<Figure size 900x900 with 2 Axes>"
            ],
            "image/png": "[encoded data removed]"
          },
          "metadata": {}
        }
      ]
    },
    {
      "cell_type": "markdown",
      "source": [
        "# 7. Generate another grid to indicate how often each neuron is activated using, MiniSom.activation_response.\n"
      ],
      "metadata": {
        "id": "ih-wf0u6IP1v"
      }
    },
    {
      "cell_type": "code",
      "metadata": {
        "colab": {
          "base_uri": "https://localhost:8080/",
          "height": 605
        },
        "id": "97eWQWKl7zAi",
        "outputId": "76bfedaa-0df0-4de5-ee7f-d7658dc027fe"
      },
      "source": [
        "#how often each neuron is activated\n",
        "plt.figure(figsize=(7, 7))\n",
        "frequencies = som.activation_response(normalized_data)\n",
        "plt.pcolor(frequencies.T, cmap='Blues')\n",
        "plt.colorbar()\n",
        "plt.show()"
      ],
      "execution_count": 88,
      "outputs": [
        {
          "output_type": "display_data",
          "data": {
            "text/plain": [
              "<Figure size 700x700 with 2 Axes>"
            ],
            "image/png": "[encoded data removed]"
          },
          "metadata": {}
        }
      ]
    },
    {
      "cell_type": "markdown",
      "source": [
        "# 8. Visualize the proportion of samples per class falling in a specific neuron using the, matplotlib.gridspec.GridSpec and matplotlib.patches.Patcha"
      ],
      "metadata": {
        "id": "K8u6Y_CvIWsb"
      }
    },
    {
      "cell_type": "code",
      "metadata": {
        "colab": {
          "base_uri": "https://localhost:8080/",
          "height": 647
        },
        "id": "tk1k0H0j_AoK",
        "outputId": "f780fb2a-a4c8-4dd9-b58e-904313cfd2bb"
      },
      "source": [
        "#visualize the proportion of samples per class\n",
        "label_names = {1:'has_diabetes', 0:'no_diabetes'}\n",
        "labels_map = som.labels_map(normalized_data, [label_names[t] for t in outcomes])\n",
        "\n",
        "fig = plt.figure(figsize=(9, 9))\n",
        "the_grid = GridSpec(n_neurons, m_neurons, fig)\n",
        "for position in labels_map.keys():\n",
        "    label_fracs = [labels_map[position][l] for l in label_names.values()]\n",
        "    plt.subplot(the_grid[n_neurons-1-position[1],\n",
        "                         position[0]], aspect=1)\n",
        "    patches, texts = plt.pie(label_fracs)\n",
        "\n",
        "plt.legend(patches, label_names.values(), bbox_to_anchor=(7.5, 11.5), ncol=3)\n",
        "plt.show()"
      ],
      "execution_count": 89,
      "outputs": [
        {
          "output_type": "error",
          "ename": "IndexError",
          "evalue": "ignored",
          "traceback": [
            "\u001b[0;31m---------------------------------------------------------------------------\u001b[0m",
            "\u001b[0;31mIndexError\u001b[0m                                Traceback (most recent call last)",
            "\u001b[0;32m<ipython-input-89-1ca378e424c3>\u001b[0m in \u001b[0;36m<cell line: 7>\u001b[0;34m()\u001b[0m\n\u001b[1;32m      7\u001b[0m \u001b[0;32mfor\u001b[0m \u001b[0mposition\u001b[0m \u001b[0;32min\u001b[0m \u001b[0mlabels_map\u001b[0m\u001b[0;34m.\u001b[0m\u001b[0mkeys\u001b[0m\u001b[0;34m(\u001b[0m\u001b[0;34m)\u001b[0m\u001b[0;34m:\u001b[0m\u001b[0;34m\u001b[0m\u001b[0;34m\u001b[0m\u001b[0m\n\u001b[1;32m      8\u001b[0m     \u001b[0mlabel_fracs\u001b[0m \u001b[0;34m=\u001b[0m \u001b[0;34m[\u001b[0m\u001b[0mlabels_map\u001b[0m\u001b[0;34m[\u001b[0m\u001b[0mposition\u001b[0m\u001b[0;34m]\u001b[0m\u001b[0;34m[\u001b[0m\u001b[0ml\u001b[0m\u001b[0;34m]\u001b[0m \u001b[0;32mfor\u001b[0m \u001b[0ml\u001b[0m \u001b[0;32min\u001b[0m \u001b[0mlabel_names\u001b[0m\u001b[0;34m.\u001b[0m\u001b[0mvalues\u001b[0m\u001b[0;34m(\u001b[0m\u001b[0;34m)\u001b[0m\u001b[0;34m]\u001b[0m\u001b[0;34m\u001b[0m\u001b[0;34m\u001b[0m\u001b[0m\n\u001b[0;32m----> 9\u001b[0;31m     plt.subplot(the_grid[n_neurons-1-position[1],\n\u001b[0m\u001b[1;32m     10\u001b[0m                          position[0]], aspect=1)\n\u001b[1;32m     11\u001b[0m     \u001b[0mpatches\u001b[0m\u001b[0;34m,\u001b[0m \u001b[0mtexts\u001b[0m \u001b[0;34m=\u001b[0m \u001b[0mplt\u001b[0m\u001b[0;34m.\u001b[0m\u001b[0mpie\u001b[0m\u001b[0;34m(\u001b[0m\u001b[0mlabel_fracs\u001b[0m\u001b[0;34m)\u001b[0m\u001b[0;34m\u001b[0m\u001b[0;34m\u001b[0m\u001b[0m\n",
            "\u001b[0;32m/usr/local/lib/python3.10/dist-packages/matplotlib/gridspec.py\u001b[0m in \u001b[0;36m__getitem__\u001b[0;34m(self, key)\u001b[0m\n\u001b[1;32m    256\u001b[0m                 \u001b[0;32mraise\u001b[0m \u001b[0mValueError\u001b[0m\u001b[0;34m(\u001b[0m\u001b[0;34m\"Unrecognized subplot spec\"\u001b[0m\u001b[0;34m)\u001b[0m \u001b[0;32mfrom\u001b[0m \u001b[0merr\u001b[0m\u001b[0;34m\u001b[0m\u001b[0;34m\u001b[0m\u001b[0m\n\u001b[1;32m    257\u001b[0m             num1, num2 = np.ravel_multi_index(\n\u001b[0;32m--> 258\u001b[0;31m                 \u001b[0;34m[\u001b[0m\u001b[0m_normalize\u001b[0m\u001b[0;34m(\u001b[0m\u001b[0mk1\u001b[0m\u001b[0;34m,\u001b[0m \u001b[0mnrows\u001b[0m\u001b[0;34m,\u001b[0m \u001b[0;36m0\u001b[0m\u001b[0;34m)\u001b[0m\u001b[0;34m,\u001b[0m \u001b[0m_normalize\u001b[0m\u001b[0;34m(\u001b[0m\u001b[0mk2\u001b[0m\u001b[0;34m,\u001b[0m \u001b[0mncols\u001b[0m\u001b[0;34m,\u001b[0m \u001b[0;36m1\u001b[0m\u001b[0;34m)\u001b[0m\u001b[0;34m]\u001b[0m\u001b[0;34m,\u001b[0m\u001b[0;34m\u001b[0m\u001b[0;34m\u001b[0m\u001b[0m\n\u001b[0m\u001b[1;32m    259\u001b[0m                 (nrows, ncols))\n\u001b[1;32m    260\u001b[0m         \u001b[0;32melse\u001b[0m\u001b[0;34m:\u001b[0m  \u001b[0;31m# Single key\u001b[0m\u001b[0;34m\u001b[0m\u001b[0;34m\u001b[0m\u001b[0m\n",
            "\u001b[0;32m/usr/local/lib/python3.10/dist-packages/matplotlib/gridspec.py\u001b[0m in \u001b[0;36m_normalize\u001b[0;34m(key, size, axis)\u001b[0m\n\u001b[1;32m    244\u001b[0m                     \u001b[0;32mreturn\u001b[0m \u001b[0mkey\u001b[0m\u001b[0;34m,\u001b[0m \u001b[0mkey\u001b[0m\u001b[0;34m\u001b[0m\u001b[0;34m\u001b[0m\u001b[0m\n\u001b[1;32m    245\u001b[0m                 \u001b[0;32melif\u001b[0m \u001b[0maxis\u001b[0m \u001b[0;32mis\u001b[0m \u001b[0;32mnot\u001b[0m \u001b[0;32mNone\u001b[0m\u001b[0;34m:\u001b[0m\u001b[0;34m\u001b[0m\u001b[0;34m\u001b[0m\u001b[0m\n\u001b[0;32m--> 246\u001b[0;31m                     raise IndexError(f\"index {orig_key} is out of bounds for \"\n\u001b[0m\u001b[1;32m    247\u001b[0m                                      f\"axis {axis} with size {size}\")\n\u001b[1;32m    248\u001b[0m                 \u001b[0;32melse\u001b[0m\u001b[0;34m:\u001b[0m  \u001b[0;31m# flat index\u001b[0m\u001b[0;34m\u001b[0m\u001b[0;34m\u001b[0m\u001b[0m\n",
            "\u001b[0;31mIndexError\u001b[0m: index 9 is out of bounds for axis 1 with size 9"
          ]
        },
        {
          "output_type": "display_data",
          "data": {
            "text/plain": [
              "<Figure size 900x900 with 2 Axes>"
            ],
            "image/png": "[encoded data removed]"
          },
          "metadata": {}
        }
      ]
    }
  ]
}